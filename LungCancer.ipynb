{
  "cells": [
    {
      "cell_type": "markdown",
      "metadata": {
        "_uuid": "5878df22aae1c5888a07fe2c49d0bbe1551a3c55",
        "id": "Fve8-kRHxUY6"
      },
      "source": [
        "# INTRODUCTION\n",
        "<br>\n",
        "We have a data which classified if patients have heart disease or not according to features in it. We will try to use this data to create a model which tries predict if a patient has this disease or not. We will use logistic regression (Result) algorithm."
      ]
    },
    {
      "cell_type": "code",
      "execution_count": 89,
      "metadata": {
        "_cell_guid": "b1076dfc-b9ad-4769-8c92-a6c4dae69d19",
        "_uuid": "8f2839f25d086af736a60e9eeb907d3b93b6e0e5",
        "id": "6QqH18ZNxUY9"
      },
      "outputs": [],
      "source": [
        "import numpy as np\n",
        "import pandas as pd\n",
        "import matplotlib.pyplot as plt\n",
        "import seaborn as sns\n",
        "from sklearn.linear_model import LogisticRegression\n",
        "from sklearn.model_selection import train_test_split"
      ]
    },
    {
      "cell_type": "markdown",
      "metadata": {
        "_cell_guid": "79c7e3d0-c299-4dcb-8224-4455121ee9b0",
        "_uuid": "d629ff2d2480ee46fbb7e2d37f6b5fab8052498a",
        "collapsed": true,
        "id": "GHC5MQgLxUZA"
      },
      "source": [
        "## Read Data"
      ]
    },
    {
      "cell_type": "code",
      "execution_count": 91,
      "metadata": {
        "_uuid": "8d0ffd4e0549f6f2eb24c7cc258256f2fb63ec48",
        "id": "2LM4DOzixUZA"
      },
      "outputs": [],
      "source": [
        "# We are reading our data\n",
        "df = pd.read_csv(\"lung_cancer.csv\")"
      ]
    },
    {
      "cell_type": "code",
      "execution_count": 92,
      "metadata": {
        "_uuid": "4dee2636361981b0f92a8a585d49f581283d6222",
        "colab": {
          "base_uri": "https://localhost:8080/",
          "height": 206
        },
        "id": "2M9fvZJcxUZA",
        "outputId": "f648f441-844f-46d3-854b-81182a384cc3"
      },
      "outputs": [
        {
          "output_type": "execute_result",
          "data": {
            "text/plain": [
              "   Age  Smokes  AreaQ  Alkhol  Result\n",
              "0   35       3      5       4       1\n",
              "1   27      20      2       5       1\n",
              "2   30       0      5       2       0\n",
              "3   28       0      8       1       0\n",
              "4   68       4      5       6       1"
            ],
            "text/html": [
              "\n",
              "  <div id=\"df-cb5715cf-4f29-4841-b423-69ddbc34dd61\">\n",
              "    <div class=\"colab-df-container\">\n",
              "      <div>\n",
              "<style scoped>\n",
              "    .dataframe tbody tr th:only-of-type {\n",
              "        vertical-align: middle;\n",
              "    }\n",
              "\n",
              "    .dataframe tbody tr th {\n",
              "        vertical-align: top;\n",
              "    }\n",
              "\n",
              "    .dataframe thead th {\n",
              "        text-align: right;\n",
              "    }\n",
              "</style>\n",
              "<table border=\"1\" class=\"dataframe\">\n",
              "  <thead>\n",
              "    <tr style=\"text-align: right;\">\n",
              "      <th></th>\n",
              "      <th>Age</th>\n",
              "      <th>Smokes</th>\n",
              "      <th>AreaQ</th>\n",
              "      <th>Alkhol</th>\n",
              "      <th>Result</th>\n",
              "    </tr>\n",
              "  </thead>\n",
              "  <tbody>\n",
              "    <tr>\n",
              "      <th>0</th>\n",
              "      <td>35</td>\n",
              "      <td>3</td>\n",
              "      <td>5</td>\n",
              "      <td>4</td>\n",
              "      <td>1</td>\n",
              "    </tr>\n",
              "    <tr>\n",
              "      <th>1</th>\n",
              "      <td>27</td>\n",
              "      <td>20</td>\n",
              "      <td>2</td>\n",
              "      <td>5</td>\n",
              "      <td>1</td>\n",
              "    </tr>\n",
              "    <tr>\n",
              "      <th>2</th>\n",
              "      <td>30</td>\n",
              "      <td>0</td>\n",
              "      <td>5</td>\n",
              "      <td>2</td>\n",
              "      <td>0</td>\n",
              "    </tr>\n",
              "    <tr>\n",
              "      <th>3</th>\n",
              "      <td>28</td>\n",
              "      <td>0</td>\n",
              "      <td>8</td>\n",
              "      <td>1</td>\n",
              "      <td>0</td>\n",
              "    </tr>\n",
              "    <tr>\n",
              "      <th>4</th>\n",
              "      <td>68</td>\n",
              "      <td>4</td>\n",
              "      <td>5</td>\n",
              "      <td>6</td>\n",
              "      <td>1</td>\n",
              "    </tr>\n",
              "  </tbody>\n",
              "</table>\n",
              "</div>\n",
              "      <button class=\"colab-df-convert\" onclick=\"convertToInteractive('df-cb5715cf-4f29-4841-b423-69ddbc34dd61')\"\n",
              "              title=\"Convert this dataframe to an interactive table.\"\n",
              "              style=\"display:none;\">\n",
              "        \n",
              "  <svg xmlns=\"http://www.w3.org/2000/svg\" height=\"24px\"viewBox=\"0 0 24 24\"\n",
              "       width=\"24px\">\n",
              "    <path d=\"M0 0h24v24H0V0z\" fill=\"none\"/>\n",
              "    <path d=\"M18.56 5.44l.94 2.06.94-2.06 2.06-.94-2.06-.94-.94-2.06-.94 2.06-2.06.94zm-11 1L8.5 8.5l.94-2.06 2.06-.94-2.06-.94L8.5 2.5l-.94 2.06-2.06.94zm10 10l.94 2.06.94-2.06 2.06-.94-2.06-.94-.94-2.06-.94 2.06-2.06.94z\"/><path d=\"M17.41 7.96l-1.37-1.37c-.4-.4-.92-.59-1.43-.59-.52 0-1.04.2-1.43.59L10.3 9.45l-7.72 7.72c-.78.78-.78 2.05 0 2.83L4 21.41c.39.39.9.59 1.41.59.51 0 1.02-.2 1.41-.59l7.78-7.78 2.81-2.81c.8-.78.8-2.07 0-2.86zM5.41 20L4 18.59l7.72-7.72 1.47 1.35L5.41 20z\"/>\n",
              "  </svg>\n",
              "      </button>\n",
              "      \n",
              "  <style>\n",
              "    .colab-df-container {\n",
              "      display:flex;\n",
              "      flex-wrap:wrap;\n",
              "      gap: 12px;\n",
              "    }\n",
              "\n",
              "    .colab-df-convert {\n",
              "      background-color: #E8F0FE;\n",
              "      border: none;\n",
              "      border-radius: 50%;\n",
              "      cursor: pointer;\n",
              "      display: none;\n",
              "      fill: #1967D2;\n",
              "      height: 32px;\n",
              "      padding: 0 0 0 0;\n",
              "      width: 32px;\n",
              "    }\n",
              "\n",
              "    .colab-df-convert:hover {\n",
              "      background-color: #E2EBFA;\n",
              "      box-shadow: 0px 1px 2px rgba(60, 64, 67, 0.3), 0px 1px 3px 1px rgba(60, 64, 67, 0.15);\n",
              "      fill: #174EA6;\n",
              "    }\n",
              "\n",
              "    [theme=dark] .colab-df-convert {\n",
              "      background-color: #3B4455;\n",
              "      fill: #D2E3FC;\n",
              "    }\n",
              "\n",
              "    [theme=dark] .colab-df-convert:hover {\n",
              "      background-color: #434B5C;\n",
              "      box-shadow: 0px 1px 3px 1px rgba(0, 0, 0, 0.15);\n",
              "      filter: drop-shadow(0px 1px 2px rgba(0, 0, 0, 0.3));\n",
              "      fill: #FFFFFF;\n",
              "    }\n",
              "  </style>\n",
              "\n",
              "      <script>\n",
              "        const buttonEl =\n",
              "          document.querySelector('#df-cb5715cf-4f29-4841-b423-69ddbc34dd61 button.colab-df-convert');\n",
              "        buttonEl.style.display =\n",
              "          google.colab.kernel.accessAllowed ? 'block' : 'none';\n",
              "\n",
              "        async function convertToInteractive(key) {\n",
              "          const element = document.querySelector('#df-cb5715cf-4f29-4841-b423-69ddbc34dd61');\n",
              "          const dataTable =\n",
              "            await google.colab.kernel.invokeFunction('convertToInteractive',\n",
              "                                                     [key], {});\n",
              "          if (!dataTable) return;\n",
              "\n",
              "          const docLinkHtml = 'Like what you see? Visit the ' +\n",
              "            '<a target=\"_blank\" href=https://colab.research.google.com/notebooks/data_table.ipynb>data table notebook</a>'\n",
              "            + ' to learn more about interactive tables.';\n",
              "          element.innerHTML = '';\n",
              "          dataTable['output_type'] = 'display_data';\n",
              "          await google.colab.output.renderOutput(dataTable, element);\n",
              "          const docLink = document.createElement('div');\n",
              "          docLink.innerHTML = docLinkHtml;\n",
              "          element.appendChild(docLink);\n",
              "        }\n",
              "      </script>\n",
              "    </div>\n",
              "  </div>\n",
              "  "
            ]
          },
          "metadata": {},
          "execution_count": 92
        }
      ],
      "source": [
        "# First 5 rows of our data\n",
        "df.head()"
      ]
    },
    {
      "cell_type": "markdown",
      "metadata": {
        "_uuid": "e7df2228490edc65cef3d01659b4ef96fe15e191",
        "id": "gtBshEvLxUZB"
      },
      "source": [
        "Data contains; <br>\n",
        "\n",
        "* age - age in years <br>\n",
        "*Glucose - (50-500)\n",
        "*Blood Pressure-(20-300)\n",
        "*SkinThickness-(0-100)\n",
        "*Insulin- (0-500)\n",
        "*BMI-(1-100)\n",
        "*DPF(Diabetes Pedigree Function)-(0-5)\n",
        "* Result - have disease or not (1=yes, 0=no)"
      ]
    },
    {
      "cell_type": "markdown",
      "metadata": {
        "_uuid": "5c510b6aea2f9083981bf75dc67c5250b3b891c7",
        "id": "84xTGITkxUZB"
      },
      "source": [
        "## Data Exploration"
      ]
    },
    {
      "cell_type": "code",
      "execution_count": 94,
      "metadata": {
        "_uuid": "00af1961381609399dd80ca7c6a950277c120357",
        "colab": {
          "base_uri": "https://localhost:8080/"
        },
        "id": "qIepjNeQxUZB",
        "outputId": "f68350f9-dc50-4b21-d726-ef4968175701"
      },
      "outputs": [
        {
          "output_type": "execute_result",
          "data": {
            "text/plain": [
              "0    31\n",
              "1    28\n",
              "Name: Result, dtype: int64"
            ]
          },
          "metadata": {},
          "execution_count": 94
        }
      ],
      "source": [
        "df.Result.value_counts()"
      ]
    },
    {
      "cell_type": "code",
      "execution_count": 95,
      "metadata": {
        "_uuid": "f0c639a82d794e41978199f7fa4405a01a7b805e",
        "colab": {
          "base_uri": "https://localhost:8080/",
          "height": 279
        },
        "id": "LqHOpRbsxUZC",
        "outputId": "a22ddde8-bc92-4fda-f9ab-a65ff017b57f"
      },
      "outputs": [
        {
          "output_type": "display_data",
          "data": {
            "text/plain": [
              "<Figure size 432x288 with 1 Axes>"
            ],
            "image/png": "[encoded data removed]"
          },
          "metadata": {}
        }
      ],
      "source": [
        "sns.countplot(x=\"Result\", data=df, palette=\"Reds\")\n",
        "plt.show()"
      ]
    },
    {
      "cell_type": "code",
      "execution_count": 96,
      "metadata": {
        "_uuid": "dd20ffc31d87de07a6f2941b0500cda8c0b1b8e6",
        "colab": {
          "base_uri": "https://localhost:8080/"
        },
        "id": "aU_AKUapxUZD",
        "outputId": "d4f7cc03-484a-41ef-a195-ca5a7c1d3586"
      },
      "outputs": [
        {
          "output_type": "stream",
          "name": "stdout",
          "text": [
            "Percentage of Patients Haven't Diabetes Disease: 52.54%\n",
            "Percentage of Patients Have Diabetes Disease: 47.46%\n"
          ]
        }
      ],
      "source": [
        "countNoDisease = len(df[df.Result == 0])\n",
        "countHaveDisease = len(df[df.Result == 1])\n",
        "print(\"Percentage of Patients Haven't Diabetes Disease: {:.2f}%\".format((countNoDisease / (len(df.Result))*100)))\n",
        "print(\"Percentage of Patients Have Diabetes Disease: {:.2f}%\".format((countHaveDisease / (len(df.Result))*100)))"
      ]
    },
    {
      "cell_type": "code",
      "execution_count": 97,
      "metadata": {
        "_uuid": "435f8691396c6f2b1a901809286eb64112126582",
        "colab": {
          "base_uri": "https://localhost:8080/",
          "height": 143
        },
        "id": "0vvx3KfXxUZG",
        "outputId": "7f076236-53da-43ae-ba5f-1bd867ad7d17"
      },
      "outputs": [
        {
          "output_type": "execute_result",
          "data": {
            "text/plain": [
              "              Age     Smokes     AreaQ    Alkhol\n",
              "Result                                          \n",
              "0       32.870968  12.258065  6.935484  1.419355\n",
              "1       53.428571  18.178571  3.285714  5.250000"
            ],
            "text/html": [
              "\n",
              "  <div id=\"df-f6f3ba4a-e157-4354-8bc9-c31a929017ad\">\n",
              "    <div class=\"colab-df-container\">\n",
              "      <div>\n",
              "<style scoped>\n",
              "    .dataframe tbody tr th:only-of-type {\n",
              "        vertical-align: middle;\n",
              "    }\n",
              "\n",
              "    .dataframe tbody tr th {\n",
              "        vertical-align: top;\n",
              "    }\n",
              "\n",
              "    .dataframe thead th {\n",
              "        text-align: right;\n",
              "    }\n",
              "</style>\n",
              "<table border=\"1\" class=\"dataframe\">\n",
              "  <thead>\n",
              "    <tr style=\"text-align: right;\">\n",
              "      <th></th>\n",
              "      <th>Age</th>\n",
              "      <th>Smokes</th>\n",
              "      <th>AreaQ</th>\n",
              "      <th>Alkhol</th>\n",
              "    </tr>\n",
              "    <tr>\n",
              "      <th>Result</th>\n",
              "      <th></th>\n",
              "      <th></th>\n",
              "      <th></th>\n",
              "      <th></th>\n",
              "    </tr>\n",
              "  </thead>\n",
              "  <tbody>\n",
              "    <tr>\n",
              "      <th>0</th>\n",
              "      <td>32.870968</td>\n",
              "      <td>12.258065</td>\n",
              "      <td>6.935484</td>\n",
              "      <td>1.419355</td>\n",
              "    </tr>\n",
              "    <tr>\n",
              "      <th>1</th>\n",
              "      <td>53.428571</td>\n",
              "      <td>18.178571</td>\n",
              "      <td>3.285714</td>\n",
              "      <td>5.250000</td>\n",
              "    </tr>\n",
              "  </tbody>\n",
              "</table>\n",
              "</div>\n",
              "      <button class=\"colab-df-convert\" onclick=\"convertToInteractive('df-f6f3ba4a-e157-4354-8bc9-c31a929017ad')\"\n",
              "              title=\"Convert this dataframe to an interactive table.\"\n",
              "              style=\"display:none;\">\n",
              "        \n",
              "  <svg xmlns=\"http://www.w3.org/2000/svg\" height=\"24px\"viewBox=\"0 0 24 24\"\n",
              "       width=\"24px\">\n",
              "    <path d=\"M0 0h24v24H0V0z\" fill=\"none\"/>\n",
              "    <path d=\"M18.56 5.44l.94 2.06.94-2.06 2.06-.94-2.06-.94-.94-2.06-.94 2.06-2.06.94zm-11 1L8.5 8.5l.94-2.06 2.06-.94-2.06-.94L8.5 2.5l-.94 2.06-2.06.94zm10 10l.94 2.06.94-2.06 2.06-.94-2.06-.94-.94-2.06-.94 2.06-2.06.94z\"/><path d=\"M17.41 7.96l-1.37-1.37c-.4-.4-.92-.59-1.43-.59-.52 0-1.04.2-1.43.59L10.3 9.45l-7.72 7.72c-.78.78-.78 2.05 0 2.83L4 21.41c.39.39.9.59 1.41.59.51 0 1.02-.2 1.41-.59l7.78-7.78 2.81-2.81c.8-.78.8-2.07 0-2.86zM5.41 20L4 18.59l7.72-7.72 1.47 1.35L5.41 20z\"/>\n",
              "  </svg>\n",
              "      </button>\n",
              "      \n",
              "  <style>\n",
              "    .colab-df-container {\n",
              "      display:flex;\n",
              "      flex-wrap:wrap;\n",
              "      gap: 12px;\n",
              "    }\n",
              "\n",
              "    .colab-df-convert {\n",
              "      background-color: #E8F0FE;\n",
              "      border: none;\n",
              "      border-radius: 50%;\n",
              "      cursor: pointer;\n",
              "      display: none;\n",
              "      fill: #1967D2;\n",
              "      height: 32px;\n",
              "      padding: 0 0 0 0;\n",
              "      width: 32px;\n",
              "    }\n",
              "\n",
              "    .colab-df-convert:hover {\n",
              "      background-color: #E2EBFA;\n",
              "      box-shadow: 0px 1px 2px rgba(60, 64, 67, 0.3), 0px 1px 3px 1px rgba(60, 64, 67, 0.15);\n",
              "      fill: #174EA6;\n",
              "    }\n",
              "\n",
              "    [theme=dark] .colab-df-convert {\n",
              "      background-color: #3B4455;\n",
              "      fill: #D2E3FC;\n",
              "    }\n",
              "\n",
              "    [theme=dark] .colab-df-convert:hover {\n",
              "      background-color: #434B5C;\n",
              "      box-shadow: 0px 1px 3px 1px rgba(0, 0, 0, 0.15);\n",
              "      filter: drop-shadow(0px 1px 2px rgba(0, 0, 0, 0.3));\n",
              "      fill: #FFFFFF;\n",
              "    }\n",
              "  </style>\n",
              "\n",
              "      <script>\n",
              "        const buttonEl =\n",
              "          document.querySelector('#df-f6f3ba4a-e157-4354-8bc9-c31a929017ad button.colab-df-convert');\n",
              "        buttonEl.style.display =\n",
              "          google.colab.kernel.accessAllowed ? 'block' : 'none';\n",
              "\n",
              "        async function convertToInteractive(key) {\n",
              "          const element = document.querySelector('#df-f6f3ba4a-e157-4354-8bc9-c31a929017ad');\n",
              "          const dataTable =\n",
              "            await google.colab.kernel.invokeFunction('convertToInteractive',\n",
              "                                                     [key], {});\n",
              "          if (!dataTable) return;\n",
              "\n",
              "          const docLinkHtml = 'Like what you see? Visit the ' +\n",
              "            '<a target=\"_blank\" href=https://colab.research.google.com/notebooks/data_table.ipynb>data table notebook</a>'\n",
              "            + ' to learn more about interactive tables.';\n",
              "          element.innerHTML = '';\n",
              "          dataTable['output_type'] = 'display_data';\n",
              "          await google.colab.output.renderOutput(dataTable, element);\n",
              "          const docLink = document.createElement('div');\n",
              "          docLink.innerHTML = docLinkHtml;\n",
              "          element.appendChild(docLink);\n",
              "        }\n",
              "      </script>\n",
              "    </div>\n",
              "  </div>\n",
              "  "
            ]
          },
          "metadata": {},
          "execution_count": 97
        }
      ],
      "source": [
        "df.groupby('Result').mean()"
      ]
    },
    {
      "cell_type": "code",
      "execution_count": 98,
      "metadata": {
        "_uuid": "e0eed947b5490e93a43515ad6d2a6af9713f16ce",
        "colab": {
          "base_uri": "https://localhost:8080/",
          "height": 407
        },
        "id": "3CeWZv6sxUZH",
        "outputId": "110428bd-c196-4cd2-c11c-4800e1b9033e"
      },
      "outputs": [
        {
          "output_type": "display_data",
          "data": {
            "text/plain": [
              "<Figure size 1080x432 with 1 Axes>"
            ],
            "image/png": "[encoded data removed]"
          },
          "metadata": {}
        }
      ],
      "source": [
        "pd.crosstab(df.Age,df.Result).plot(kind=\"bar\",figsize=(15,6))\n",
        "plt.title('Lung Cancer Frequency for Ages')\n",
        "plt.xlabel('Age')\n",
        "plt.ylabel('Frequency')\n",
        "plt.savefig('LungcancerAndAges.png')\n",
        "plt.show()"
      ]
    },
    {
      "cell_type": "code",
      "execution_count": 100,
      "metadata": {
        "_uuid": "e5fe0744106dc26475e2e0274081789518ad8a51",
        "colab": {
          "base_uri": "https://localhost:8080/",
          "height": 279
        },
        "id": "jBdB5ac8xUZI",
        "outputId": "333f2e0e-fd8f-4a50-e10e-367f5a9d6e9a"
      },
      "outputs": [
        {
          "output_type": "display_data",
          "data": {
            "text/plain": [
              "<Figure size 432x288 with 1 Axes>"
            ],
            "image/png": "[encoded data removed]"
          },
          "metadata": {}
        }
      ],
      "source": [
        "plt.scatter(x=df.Age[df.Result==1], y=df.Smokes[(df.Result==1)], c=\"red\")\n",
        "plt.scatter(x=df.Age[df.Result==0], y=df.Smokes[(df.Result==0)])\n",
        "plt.legend([\"Disease\", \"Not Disease\"])\n",
        "plt.xlabel(\"Age\")\n",
        "plt.ylabel(\"Maximum Diabetes Rate\")\n",
        "plt.show()"
      ]
    },
    {
      "cell_type": "code",
      "execution_count": 101,
      "metadata": {
        "_uuid": "730062aa471d6774f0b761ad2cb6a7043d339615",
        "colab": {
          "base_uri": "https://localhost:8080/",
          "height": 404
        },
        "id": "cyew6U8zxUZJ",
        "outputId": "11a7acd1-cb7f-4634-860a-d6f7d64bf761"
      },
      "outputs": [
        {
          "output_type": "display_data",
          "data": {
            "text/plain": [
              "<Figure size 1080x432 with 1 Axes>"
            ],
            "image/png": "[encoded data removed]"
          },
          "metadata": {}
        }
      ],
      "source": [
        "pd.crosstab(df.Alkhol,df.Result).plot(kind=\"bar\",figsize=(15,6),color=['blue','red' ])\n",
        "plt.title('BreastCancer Frequency for Alkhol')\n",
        "plt.xlabel('Alkhol')\n",
        "plt.xticks(rotation = 0)\n",
        "plt.ylabel('Frequency')\n",
        "plt.show()"
      ]
    },
    {
      "cell_type": "markdown",
      "metadata": {
        "_uuid": "ea92dc67483868424e1bb15527d28be93dfeb208",
        "id": "1jCpHinVxUZL"
      },
      "source": [
        "## Creating Model for Logistic Regression\n",
        "<br>\n",
        "We can use sklearn library or we can write functions ourselves. Let's them both. Firstly we will write our functions after that we'll use sklearn library to calculate score."
      ]
    },
    {
      "cell_type": "code",
      "execution_count": 102,
      "metadata": {
        "_uuid": "2e4577118ef837e24c955ea81562d8fb51a22b1c",
        "id": "hGlgQS7AxUZM"
      },
      "outputs": [],
      "source": [
        "y = df.Result.values\n",
        "x_data = df.drop(['Result'], axis = 1)"
      ]
    },
    {
      "cell_type": "markdown",
      "metadata": {
        "_uuid": "ee237d0ae2c7686cf7fda643f32bb55add7b4787",
        "id": "5xx3E6u5xUZM"
      },
      "source": [
        "### Normalize Data\n",
        "<br>\n",
        "<br>\n",
        "<img src=\"https://beyondbacktesting.files.wordpress.com/2017/07/normalization.png?w=863\" width=\"400px\"/>"
      ]
    },
    {
      "cell_type": "code",
      "execution_count": 103,
      "metadata": {
        "_uuid": "c60916b235e1962a53f95593b8d020c0acc079ed",
        "id": "cK2xcjeyxUZM"
      },
      "outputs": [],
      "source": [
        "# Normalize\n",
        "x = (x_data - np.min(x_data)) / (np.max(x_data) - np.min(x_data)).values"
      ]
    },
    {
      "cell_type": "markdown",
      "metadata": {
        "_uuid": "ef33f3d73211dca77ef04035492c6772685822bb",
        "id": "mU_YVP2_xUZN"
      },
      "source": [
        "We will split our data. 80% of our data will be train data and 20% of it will be test data."
      ]
    },
    {
      "cell_type": "code",
      "execution_count": 104,
      "metadata": {
        "_uuid": "3090d1ba1e8776706d23a1175db6d1451908a954",
        "id": "WtLP0fh0xUZN"
      },
      "outputs": [],
      "source": [
        "x_train, x_test, y_train, y_test = train_test_split(x,y,test_size = 0.2,random_state=0)"
      ]
    },
    {
      "cell_type": "code",
      "execution_count": 105,
      "metadata": {
        "_uuid": "880e2db253fd1125bfa065ba0ae8840b68687e42",
        "id": "ZMkRdELhxUZN"
      },
      "outputs": [],
      "source": [
        "#transpose matrices\n",
        "x_train = x_train.T\n",
        "y_train = y_train.T\n",
        "x_test = x_test.T\n",
        "y_test = y_test.T"
      ]
    },
    {
      "cell_type": "markdown",
      "metadata": {
        "_uuid": "4933da952d5df4899eac737063ec7dc1aff23b2e",
        "id": "9yak03RoxUZN"
      },
      "source": [
        "Let's say weight = 0.01 and bias = 0.0"
      ]
    },
    {
      "cell_type": "code",
      "execution_count": 106,
      "metadata": {
        "_uuid": "e98deb17b979b67f57be48517cdcf631cd5363bc",
        "id": "j1T7hrmKxUZO"
      },
      "outputs": [],
      "source": [
        "#initialize\n",
        "def initialize(dimension):\n",
        "    \n",
        "    weight = np.full((dimension,1),0.01)\n",
        "    bias = 0.0\n",
        "    return weight,bias"
      ]
    },
    {
      "cell_type": "markdown",
      "metadata": {
        "_uuid": "d707c6af5f7d32c9d699494cfbeddc04a687d4f3",
        "id": "1Fh6T-2ZxUZO"
      },
      "source": [
        "### Sigmoid Function\n",
        "<br>\n",
        "<img src=\"https://qph.fs.quoracdn.net/main-qimg-05edc1873d0103e36064862a45566dba\" width=\"500px\"/>"
      ]
    },
    {
      "cell_type": "code",
      "execution_count": 107,
      "metadata": {
        "_uuid": "116fc66d415563ca82b5400b7852cce9dad004ba",
        "id": "vHQvasu4xUZO"
      },
      "outputs": [],
      "source": [
        "def sigmoid(z):\n",
        "    \n",
        "    y_head = 1/(1+ np.exp(-z))\n",
        "    return y_head"
      ]
    },
    {
      "cell_type": "markdown",
      "metadata": {
        "_uuid": "3363dced8043a7db0ec0dc0464e14ff669c5b1d6",
        "id": "Fzg2EmJ_xUZP"
      },
      "source": [
        "### Forward and Backward Propagation\n",
        "<br>\n",
        "<img src=\"https://image.slidesharecdn.com/gradientdescentbackpropandautomaticdifferentiation-160829164205/95/gradient-descent-back-propagation-and-auto-differentiation-advanced-spark-and-tensorflow-meetup-08042016-62-638.jpg?cb=1472489358\" width=\"500px\"/>"
      ]
    },
    {
      "cell_type": "markdown",
      "metadata": {
        "_uuid": "656c61dffe4729c195d84d117b2b8aa63c1cf9aa",
        "id": "2SSMd99TxUZP"
      },
      "source": [
        "### Cost Function\n",
        "<br>\n",
        "<img src=\"https://i.stack.imgur.com/XbU4S.png\" width=\"500px\"/>"
      ]
    },
    {
      "cell_type": "markdown",
      "metadata": {
        "_uuid": "948cf49e3a372a223ffcb809933e6aa0c1ad9515",
        "id": "2o1i_KsSxUZQ"
      },
      "source": [
        "### Gradient Descent\n",
        "<br>\n",
        "<img src=\"https://i.stack.imgur.com/pYVzl.png\" width=\"500px\"/>"
      ]
    },
    {
      "cell_type": "markdown",
      "metadata": {
        "_uuid": "34307d9833893a492402f94a467267175a24c8d8",
        "id": "oWyJHQgGxUZQ"
      },
      "source": [
        "By the way in formulas; <br>\n",
        "* h0(x^i)= y_head\n",
        "* y^i = y_train\n",
        "* x^i = x_train"
      ]
    },
    {
      "cell_type": "code",
      "execution_count": 108,
      "metadata": {
        "_uuid": "5998fbc58a696070458297830e30d4e4b036396d",
        "id": "NLRF7qVGxUZQ"
      },
      "outputs": [],
      "source": [
        "def forwardBackward(weight,bias,x_train,y_train):\n",
        "    # Forward\n",
        "    \n",
        "    y_head = sigmoid(np.dot(weight.T,x_train) + bias)\n",
        "    loss = -(y_train*np.log(y_head) + (1-y_train)*np.log(1-y_head))\n",
        "    cost = np.sum(loss) / x_train.shape[1]\n",
        "    \n",
        "    # Backward\n",
        "    derivative_weight = np.dot(x_train,((y_head-y_train).T))/x_train.shape[1]\n",
        "    derivative_bias = np.sum(y_head-y_train)/x_train.shape[1]\n",
        "    gradients = {\"Derivative Weight\" : derivative_weight, \"Derivative Bias\" : derivative_bias}\n",
        "    \n",
        "    return cost,gradients"
      ]
    },
    {
      "cell_type": "code",
      "execution_count": 109,
      "metadata": {
        "_uuid": "0241c5bec516229c2832728e27782c273ca35b57",
        "id": "kxEgfLWfxUZQ"
      },
      "outputs": [],
      "source": [
        "def update(weight,bias,x_train,y_train,learningRate,iteration) :\n",
        "    costList = []\n",
        "    index = []\n",
        "    \n",
        "    #for each iteration, update weight and bias values\n",
        "    for i in range(iteration):\n",
        "        cost,gradients = forwardBackward(weight,bias,x_train,y_train)\n",
        "        weight = weight - learningRate * gradients[\"Derivative Weight\"]\n",
        "        bias = bias - learningRate * gradients[\"Derivative Bias\"]\n",
        "        \n",
        "        costList.append(cost)\n",
        "        index.append(i)\n",
        "\n",
        "    parameters = {\"weight\": weight,\"bias\": bias}\n",
        "    \n",
        "    print(\"iteration:\",iteration)\n",
        "    print(\"cost:\",cost)\n",
        "\n",
        "    plt.plot(index,costList)\n",
        "    plt.xlabel(\"Number of Iteration\")\n",
        "    plt.ylabel(\"Cost\")\n",
        "    plt.show()\n",
        "\n",
        "    return parameters, gradients"
      ]
    },
    {
      "cell_type": "code",
      "execution_count": 110,
      "metadata": {
        "_uuid": "a97c3ff651d88b280eb87ec076040f0becaf1f3e",
        "id": "yIjH1EZrxUZR"
      },
      "outputs": [],
      "source": [
        "def predict(weight,bias,x_test):\n",
        "    z = np.dot(weight.T,x_test) + bias\n",
        "    y_head = sigmoid(z)\n",
        "\n",
        "    y_prediction = np.zeros((1,x_test.shape[1]))\n",
        "    \n",
        "    for i in range(y_head.shape[1]):\n",
        "        if y_head[0,i] <= 0.5:\n",
        "            y_prediction[0,i] = 0\n",
        "        else:\n",
        "            y_prediction[0,i] = 1\n",
        "    return y_prediction"
      ]
    },
    {
      "cell_type": "code",
      "execution_count": 111,
      "metadata": {
        "_uuid": "1b3ae665060ba757d8e0f5f29458fadf4be144ff",
        "id": "uz9IK4w-xUZS"
      },
      "outputs": [],
      "source": [
        "def logistic_regression(x_train,y_train,x_test,y_test,learningRate,iteration):\n",
        "    dimension = x_train.shape[0]\n",
        "    weight,bias = initialize(dimension)\n",
        "    \n",
        "    parameters, gradients = update(weight,bias,x_train,y_train,learningRate,iteration)\n",
        "\n",
        "    y_prediction = predict(parameters[\"weight\"],parameters[\"bias\"],x_test)\n",
        "    \n",
        "    print(\"Manuel Test Accuracy: {:.2f}%\".format((100 - np.mean(np.abs(y_prediction - y_test))*100)))"
      ]
    },
    {
      "cell_type": "code",
      "execution_count": 112,
      "metadata": {
        "_uuid": "d866efadafcc3b49a90016c00da6c4d981cd8837",
        "colab": {
          "base_uri": "https://localhost:8080/",
          "height": 331
        },
        "id": "nLRb3khKxUZS",
        "outputId": "6921c4ae-db4e-4c60-9aaf-b22f2d16eba4"
      },
      "outputs": [
        {
          "output_type": "stream",
          "name": "stdout",
          "text": [
            "iteration: 100\n",
            "cost: 0.14632870655440788\n"
          ]
        },
        {
          "output_type": "display_data",
          "data": {
            "text/plain": [
              "<Figure size 432x288 with 1 Axes>"
            ],
            "image/png": "[encoded data removed]"
          },
          "metadata": {}
        },
        {
          "output_type": "stream",
          "name": "stdout",
          "text": [
            "Manuel Test Accuracy: 100.00%\n"
          ]
        }
      ],
      "source": [
        "logistic_regression(x_train,y_train,x_test,y_test,1,100)"
      ]
    },
    {
      "cell_type": "markdown",
      "metadata": {
        "_uuid": "75562006d1e3767f2a62c07301cce8766a3cf917",
        "id": "IrtXO2IPxUZT"
      },
      "source": [
        "## <font color=\"blue\">Manuel Test Accuracy is <font color=\"red\">**88.29%**</font></font><br>\n",
        "Let's find out sklearn's score."
      ]
    },
    {
      "cell_type": "markdown",
      "metadata": {
        "_uuid": "7ffb9f8fde45b53fb9bb6fbe25dc7339b1b15649",
        "id": "zdASD55JxUZT"
      },
      "source": [
        "### Sklearn Logistic Regression"
      ]
    },
    {
      "cell_type": "code",
      "execution_count": 113,
      "metadata": {
        "_uuid": "5592396ddebe9346767a2a34dd20abf300e5c730",
        "colab": {
          "base_uri": "https://localhost:8080/"
        },
        "id": "kIAGITbcxUZU",
        "outputId": "a0d17598-033a-468d-fb80-7edb3664afee"
      },
      "outputs": [
        {
          "output_type": "stream",
          "name": "stdout",
          "text": [
            "Test Accuracy 100.00%\n"
          ]
        }
      ],
      "source": [
        "accuracies = {}\n",
        "\n",
        "lr = LogisticRegression()\n",
        "lr.fit(x_train.T,y_train.T)\n",
        "acc = lr.score(x_test.T,y_test.T)*100\n",
        "\n",
        "accuracies['Logistic Regression'] = acc\n",
        "print(\"Test Accuracy {:.2f}%\".format(acc))"
      ]
    },
    {
      "cell_type": "markdown",
      "metadata": {
        "_uuid": "e483010f6bf26cc8801061b5122e632fcac5337e",
        "id": "MuLqwUKRxUZV"
      },
      "source": [
        "1. ## <font color = \"purple\">Our model works with <font color=\"red\">**85.85%**</font> accuracy.</font>"
      ]
    },
    {
      "cell_type": "markdown",
      "metadata": {
        "_uuid": "b0a524cdd6eb069d02aab429a1cf2024ab54cf18",
        "id": "00x4r-R-xUZV"
      },
      "source": [
        "## K-Nearest Neighbour (KNN) Result\n",
        "<br>\n",
        "Let's see what will be score if we use KNN algorithm."
      ]
    },
    {
      "cell_type": "markdown",
      "metadata": {
        "_uuid": "2a9f77931e249f18b5247349932fbf650d9052fe",
        "id": "SmR8b_CqxUZV"
      },
      "source": [
        "**KNN Algorithm**\n",
        "<br>\n",
        "<img src=\"http://res.cloudinary.com/dyd911kmh/image/upload/f_auto,q_auto:best/v1531424125/KNN_final_a1mrv9.png\"/>"
      ]
    },
    {
      "cell_type": "code",
      "execution_count": 114,
      "metadata": {
        "_uuid": "b5d2956d9f265b47645ec2a6cd2eb7d50af5783a",
        "colab": {
          "base_uri": "https://localhost:8080/"
        },
        "id": "h7Yr40HTxUZW",
        "outputId": "31abdbee-578a-4f0f-deb3-46a6d44db5bc"
      },
      "outputs": [
        {
          "output_type": "stream",
          "name": "stdout",
          "text": [
            "2 NN Score: 100.00%\n"
          ]
        }
      ],
      "source": [
        "# KNN Model\n",
        "from sklearn.neighbors import KNeighborsClassifier\n",
        "knn = KNeighborsClassifier(n_neighbors = 2)  # n_neighbors means k\n",
        "knn.fit(x_train.T, y_train.T)\n",
        "prediction = knn.predict(x_test.T)\n",
        "\n",
        "print(\"{} NN Score: {:.2f}%\".format(2, knn.score(x_test.T, y_test.T)*100))"
      ]
    },
    {
      "cell_type": "code",
      "execution_count": 115,
      "metadata": {
        "_uuid": "8db6f0c13aa1462624cf0da04a03c9ee4db8a991",
        "colab": {
          "base_uri": "https://localhost:8080/",
          "height": 296
        },
        "id": "zN2GOGonxUZW",
        "outputId": "961ac5b4-41e8-4129-9286-fcf4f1afaac1"
      },
      "outputs": [
        {
          "output_type": "display_data",
          "data": {
            "text/plain": [
              "<Figure size 432x288 with 1 Axes>"
            ],
            "image/png": "[encoded data removed]"
          },
          "metadata": {}
        },
        {
          "output_type": "stream",
          "name": "stdout",
          "text": [
            "Maximum KNN Score is 100.00%\n"
          ]
        }
      ],
      "source": [
        "# try ro find best k value\n",
        "scoreList = []\n",
        "for i in range(1,20):\n",
        "    knn2 = KNeighborsClassifier(n_neighbors = i)  # n_neighbors means k\n",
        "    knn2.fit(x_train.T, y_train.T)\n",
        "    scoreList.append(knn2.score(x_test.T, y_test.T))\n",
        "    \n",
        "plt.plot(range(1,20), scoreList)\n",
        "plt.xticks(np.arange(1,20,1))\n",
        "plt.xlabel(\"K value\")\n",
        "plt.ylabel(\"Score\")\n",
        "plt.show()\n",
        "\n",
        "acc = max(scoreList)*100\n",
        "accuracies['KNN'] = acc\n",
        "print(\"Maximum KNN Score is {:.2f}%\".format(acc))"
      ]
    },
    {
      "cell_type": "markdown",
      "metadata": {
        "_uuid": "02ec17348cc5c31a9f15ed8c132b8e3cf6e915c4",
        "id": "wpBP4R2AxUZX"
      },
      "source": [
        "As you can see above if we define k as 3-7-8 we will reach maximum score. <br>\n",
        "## <font color=\"green\">KNN Model's Accuracy is <font color=\"red\">88.52%</font></font>"
      ]
    },
    {
      "cell_type": "markdown",
      "metadata": {
        "_uuid": "ca03737d17129db8ac352aa7e2eb5ea71826f63b",
        "id": "dX0kK5T5xUZX"
      },
      "source": [
        "## Support Vector Machine (SVM) Algorithm \n",
        "Now we will use SVM algorithm. "
      ]
    },
    {
      "cell_type": "markdown",
      "metadata": {
        "_uuid": "a0eec2569ee5065a6f6fd7a25ed7f38c371b0afa",
        "id": "KaXCMDWyxUZY"
      },
      "source": [
        "**Support Vector Machine Algorithm**\n",
        "<br>\n",
        "<img src=\"https://cdn-images-1.medium.com/max/1600/1*TudH6YvvH7-h5ZyF2dJV2w.jpeg\" width=\"500px\"/><br>\n",
        "<img src=\"https://aitrends.com/wp-content/uploads/2018/01/1-19SVM-2.jpg\" width=\"500px\"/>\n"
      ]
    },
    {
      "cell_type": "code",
      "execution_count": 116,
      "metadata": {
        "_uuid": "f51e85b552168f5ce56a43dd8ccb6452ee661317",
        "id": "-_AmFnmSxUZY"
      },
      "outputs": [],
      "source": [
        "from sklearn.svm import SVC"
      ]
    },
    {
      "cell_type": "code",
      "execution_count": 117,
      "metadata": {
        "_uuid": "28b9d504870997c3213b4c26e75cd4e3d92d6275",
        "colab": {
          "base_uri": "https://localhost:8080/"
        },
        "id": "5mo_BvNNxUZZ",
        "outputId": "571f68e2-1118-4693-9fae-8b311ce6ee8a"
      },
      "outputs": [
        {
          "output_type": "stream",
          "name": "stdout",
          "text": [
            "Test Accuracy of SVM Algorithm: 100.00%\n"
          ]
        }
      ],
      "source": [
        "svm = SVC(random_state = 1)\n",
        "svm.fit(x_train.T, y_train.T)\n",
        "\n",
        "acc = svm.score(x_test.T,y_test.T)*100\n",
        "accuracies['SVM'] = acc\n",
        "print(\"Test Accuracy of SVM Algorithm: {:.2f}%\".format(acc))"
      ]
    },
    {
      "cell_type": "markdown",
      "metadata": {
        "_uuid": "d4107ae5690372c7c5ebdea21a46ea7e04adeefa",
        "id": "z-iayqY7xUZZ"
      },
      "source": [
        "## <font color=\"orange\">Test Accuracy of SVM Algorithm is <font color=\"red\"> 90.24%</font></font>"
      ]
    },
    {
      "cell_type": "markdown",
      "metadata": {
        "_uuid": "058a659cd261c900ff5ce0c6894420cbc0d00232",
        "id": "eLmSvJlpxUZa"
      },
      "source": [
        "## Naive Bayes Algorithm"
      ]
    },
    {
      "cell_type": "markdown",
      "metadata": {
        "_uuid": "cb36324c6650e7371de9e77e53d6a531dd94a93a",
        "id": "xol-lG53xUZa"
      },
      "source": [
        "**Naive Bayes Algorithm**\n",
        "<br>\n",
        "<img src=\"https://s3.ap-south-1.amazonaws.com/techleer/204.png\" width=\"500px\"/>"
      ]
    },
    {
      "cell_type": "code",
      "execution_count": 118,
      "metadata": {
        "_uuid": "0544f45710912dab11c597b9a743bdc712f1e826",
        "colab": {
          "base_uri": "https://localhost:8080/"
        },
        "id": "w6XUpEwwxUZb",
        "outputId": "3421f246-820f-40a2-e174-e31a6f672ef1"
      },
      "outputs": [
        {
          "output_type": "stream",
          "name": "stdout",
          "text": [
            "Accuracy of Naive Bayes: 100.00%\n"
          ]
        }
      ],
      "source": [
        "from sklearn.naive_bayes import GaussianNB\n",
        "nb = GaussianNB()\n",
        "nb.fit(x_train.T, y_train.T)\n",
        "\n",
        "acc = nb.score(x_test.T,y_test.T)*100\n",
        "accuracies['Naive Bayes'] = acc\n",
        "print(\"Accuracy of Naive Bayes: {:.2f}%\".format(acc))"
      ]
    },
    {
      "cell_type": "markdown",
      "metadata": {
        "_uuid": "678daa3a73af2129b879f759a22eb6ea7e70370e",
        "id": "a2-0YN4FxUZd"
      },
      "source": [
        "## <font color=\"magenta\">Accuracy of Naive Bayes: <font color=\"red\">85.37%</font></font>"
      ]
    },
    {
      "cell_type": "markdown",
      "metadata": {
        "_uuid": "998124b79b0c01da04cf9992112eafb60bdb857a",
        "id": "qpNQToHoxUZd"
      },
      "source": [
        "## Decision Tree Algorithm"
      ]
    },
    {
      "cell_type": "markdown",
      "metadata": {
        "_uuid": "cd08ae4ab93fa7de207a80412f4a8cdfb8cfd932",
        "id": "pkuZBCbtxUZe"
      },
      "source": [
        "**Decision Tree Algorithm**\n"
      ]
    },
    {
      "cell_type": "code",
      "execution_count": 119,
      "metadata": {
        "_uuid": "a3f57a094e75c7072857cb8adb40afa3fead5a26",
        "colab": {
          "base_uri": "https://localhost:8080/"
        },
        "id": "owD74pQOxUZf",
        "outputId": "013e630b-b55b-4799-c6bf-89520fc1312c"
      },
      "outputs": [
        {
          "output_type": "stream",
          "name": "stdout",
          "text": [
            "Decision Tree Test Accuracy 91.67%\n"
          ]
        }
      ],
      "source": [
        "from sklearn.tree import DecisionTreeClassifier\n",
        "dtc = DecisionTreeClassifier()\n",
        "dtc.fit(x_train.T, y_train.T)\n",
        "\n",
        "acc = dtc.score(x_test.T, y_test.T)*100\n",
        "accuracies['Decision Tree'] = acc\n",
        "print(\"Decision Tree Test Accuracy {:.2f}%\".format(acc))"
      ]
    },
    {
      "cell_type": "markdown",
      "metadata": {
        "_uuid": "b6914af2063b8991db2db75edb1e5eebee108b1c",
        "id": "BoRcmXMJxUZf"
      },
      "source": [
        "## <font color=\"#CFC60E\">Test Accuracy of Decision Tree Algorithm: <font color=\"red\">100%</font></font>"
      ]
    },
    {
      "cell_type": "markdown",
      "metadata": {
        "_uuid": "8b409e74067d3b7acfb1841fb35be018fbb92183",
        "id": "ER_oEXzBxUZg"
      },
      "source": [
        "## Random Forest Result"
      ]
    },
    {
      "cell_type": "code",
      "execution_count": 120,
      "metadata": {
        "_uuid": "c81ae8e5658bea3a910901e6bc35a319bba701a9",
        "colab": {
          "base_uri": "https://localhost:8080/"
        },
        "id": "6DxK-vvkxUZg",
        "outputId": "835761d4-2ad1-4b56-ec64-3646a56e016f"
      },
      "outputs": [
        {
          "output_type": "stream",
          "name": "stdout",
          "text": [
            "Random Forest Algorithm Accuracy Score : 91.67%\n"
          ]
        }
      ],
      "source": [
        "# Random Forest Result\n",
        "from sklearn.ensemble import RandomForestClassifier\n",
        "rf = RandomForestClassifier(n_estimators = 1000, random_state = 1)\n",
        "rf.fit(x_train.T, y_train.T)\n",
        "\n",
        "acc = rf.score(x_test.T,y_test.T)*100\n",
        "accuracies['Random Forest'] = acc\n",
        "print(\"Random Forest Algorithm Accuracy Score : {:.2f}%\".format(acc))"
      ]
    },
    {
      "cell_type": "markdown",
      "metadata": {
        "_uuid": "a0ce99be479572718f67cf4cc178299fdd9ff6a1",
        "id": "dpsJ_ZudxUZg"
      },
      "source": [
        "## <font color=\"#0FBBAE\">Test Accuracy of Random Forest: <font color=\"red\">100%</font></font>"
      ]
    },
    {
      "cell_type": "markdown",
      "metadata": {
        "_uuid": "3ba9f36a63105b2557e4314be41dc9620fab27f6",
        "id": "iPowPL1txUZh"
      },
      "source": [
        "## Comparing Models"
      ]
    },
    {
      "cell_type": "code",
      "execution_count": 121,
      "metadata": {
        "_uuid": "9e594d64f9a20255ca8687179d858e3dce855136",
        "colab": {
          "base_uri": "https://localhost:8080/",
          "height": 334
        },
        "id": "5BeJ9IPFxUZh",
        "outputId": "cd54de1c-7cec-427d-d9e5-d4baa3a90b51"
      },
      "outputs": [
        {
          "output_type": "display_data",
          "data": {
            "text/plain": [
              "<Figure size 864x360 with 1 Axes>"
            ],
            "image/png": "[encoded data removed]"
          },
          "metadata": {}
        }
      ],
      "source": [
        "colors = [\"green\", \"magenta\", \"blue\", \"orange\",\"red\",\"violet\"]\n",
        "\n",
        "sns.set_style(\"whitegrid\")\n",
        "plt.figure(figsize=(12,5))\n",
        "plt.yticks(np.arange(0,100,5))\n",
        "plt.ylabel(\"Accuracy %\")\n",
        "plt.xlabel(\"Algorithms\")\n",
        "sns.barplot(x=list(accuracies.keys()), y=list(accuracies.values()), palette=colors)\n",
        "plt.show()"
      ]
    },
    {
      "cell_type": "markdown",
      "metadata": {
        "_uuid": "3300e662f1fffbcc9c9aea95d6c11e559e84e412",
        "id": "-XHDdz4PxUZi"
      },
      "source": [
        "Our models work fine but best of them are KNN and Random Forest with 88.52% of accuracy. Let's look their confusion matrixes."
      ]
    },
    {
      "cell_type": "markdown",
      "metadata": {
        "_uuid": "0f8e3cd00eb3f1c573468e4a8708d7a6ca8df67b",
        "id": "n6FowuxhxUZi"
      },
      "source": [
        "## Confusion Matrix"
      ]
    },
    {
      "cell_type": "code",
      "execution_count": 122,
      "metadata": {
        "_uuid": "3a280577a5739b773e3ce0ca50d3cda671ba9a32",
        "id": "bHssnVXwxUZi"
      },
      "outputs": [],
      "source": [
        "# Predicted values\n",
        "y_head_lr = lr.predict(x_test.T)\n",
        "knn3 = KNeighborsClassifier(n_neighbors = 3)\n",
        "knn3.fit(x_train.T, y_train.T)\n",
        "y_head_knn = knn3.predict(x_test.T)\n",
        "y_head_svm = svm.predict(x_test.T)\n",
        "y_head_nb = nb.predict(x_test.T)\n",
        "y_head_dtc = dtc.predict(x_test.T)\n",
        "y_head_rf = rf.predict(x_test.T)"
      ]
    },
    {
      "cell_type": "code",
      "execution_count": 123,
      "metadata": {
        "_uuid": "89e2140778e93d3eecfc41d5b995cb9131633313",
        "id": "NkQ2Hd6uxUZi"
      },
      "outputs": [],
      "source": [
        "from sklearn.metrics import confusion_matrix\n",
        "\n",
        "cm_lr = confusion_matrix(y_test,y_head_lr)\n",
        "cm_knn = confusion_matrix(y_test,y_head_knn)\n",
        "cm_svm = confusion_matrix(y_test,y_head_svm)\n",
        "cm_nb = confusion_matrix(y_test,y_head_nb)\n",
        "cm_dtc = confusion_matrix(y_test,y_head_dtc)\n",
        "cm_rf = confusion_matrix(y_test,y_head_rf)\n"
      ]
    },
    {
      "cell_type": "code",
      "execution_count": 124,
      "metadata": {
        "_uuid": "b91a2a68b5cc12ea58f255731cf76d49fd2ed5ec",
        "id": "JE2RiZIyxUZj",
        "outputId": "edd100c4-ffa1-4a02-9608-02e6929cbc81",
        "colab": {
          "base_uri": "https://localhost:8080/",
          "height": 643
        }
      },
      "outputs": [
        {
          "output_type": "display_data",
          "data": {
            "text/plain": [
              "<Figure size 1728x864 with 6 Axes>"
            ],
            "image/png": "[encoded data removed]"
          },
          "metadata": {}
        }
      ],
      "source": [
        "plt.figure(figsize=(24,12))\n",
        "\n",
        "plt.suptitle(\"Confusion Matrixes\",fontsize=24)\n",
        "plt.subplots_adjust(wspace = 0.4, hspace= 0.4)\n",
        "\n",
        "plt.subplot(2,3,1)\n",
        "plt.title(\"Logistic Regression Confusion Matrix\")\n",
        "sns.heatmap(cm_lr,annot=True,cmap=\"Blues\",fmt=\"d\",cbar=False, annot_kws={\"size\": 24})\n",
        "\n",
        "plt.subplot(2,3,2)\n",
        "plt.title(\"K Nearest Neighbors Confusion Matrix\")\n",
        "sns.heatmap(cm_knn,annot=True,cmap=\"Blues\",fmt=\"d\",cbar=False, annot_kws={\"size\": 24})\n",
        "\n",
        "plt.subplot(2,3,3)\n",
        "plt.title(\"Support Vector Machine Confusion Matrix\")\n",
        "sns.heatmap(cm_svm,annot=True,cmap=\"Blues\",fmt=\"d\",cbar=False, annot_kws={\"size\": 24})\n",
        "\n",
        "plt.subplot(2,3,4)\n",
        "plt.title(\"Naive Bayes Confusion Matrix\")\n",
        "sns.heatmap(cm_nb,annot=True,cmap=\"Blues\",fmt=\"d\",cbar=False, annot_kws={\"size\": 24})\n",
        "\n",
        "plt.subplot(2,3,5)\n",
        "plt.title(\"Decision Tree Classifier Confusion Matrix\")\n",
        "sns.heatmap(cm_dtc,annot=True,cmap=\"Blues\",fmt=\"d\",cbar=False, annot_kws={\"size\": 24})\n",
        "\n",
        "plt.subplot(2,3,6)\n",
        "plt.title(\"Random Forest Confusion Matrix\")\n",
        "sns.heatmap(cm_rf,annot=True,cmap=\"Blues\",fmt=\"d\",cbar=False, annot_kws={\"size\": 24})\n",
        "\n",
        "plt.show()"
      ]
    },
    {
      "cell_type": "markdown",
      "metadata": {
        "_uuid": "e6ac9b36fd4b17bd96a5879f8c269f90171d5982",
        "id": "0ZjGi-1FxUZj"
      },
      "source": [
        "**I am new with data science. Please comment me your feedbacks to help me improve myself. Thanks for your time.**"
      ]
    }
  ],
  "metadata": {
    "kernelspec": {
      "display_name": "Python 3",
      "language": "python",
      "name": "python3"
    },
    "language_info": {
      "codemirror_mode": {
        "name": "ipython",
        "version": 3
      },
      "file_extension": ".py",
      "mimetype": "text/x-python",
      "name": "python",
      "nbconvert_exporter": "python",
      "pygments_lexer": "ipython3",
      "version": "3.6.6"
    },
    "colab": {
      "provenance": []
    }
  },
  "nbformat": 4,
  "nbformat_minor": 0
}